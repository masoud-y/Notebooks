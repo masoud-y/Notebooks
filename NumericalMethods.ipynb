{
 "cells": [
  {
   "cell_type": "markdown",
   "metadata": {},
   "source": [
    "# Numerical Methods"
   ]
  },
  {
   "cell_type": "code",
   "execution_count": 1,
   "metadata": {},
   "outputs": [],
   "source": [
    "import numpy as np\n",
    "import matplotlib.pyplot as plt"
   ]
  },
  {
   "cell_type": "markdown",
   "metadata": {},
   "source": [
    "## Newton Divided Differences Table\n",
    "ddnewton calculates the Newtom Divisded Differences for function f and an arry of nodes x."
   ]
  },
  {
   "cell_type": "code",
   "execution_count": 2,
   "metadata": {},
   "outputs": [],
   "source": [
    "def ddnewton(x,f):\n",
    "    x=x.flatten()\n",
    "    n=len(x)\n",
    "    d=np.zeros([n,n+1])\n",
    "    r=np.diff(x)\n",
    "    d[:,0]=x\n",
    "    d[:,1]=f(x)\n",
    "    for i in range(2,n+1):\n",
    "        d[i-1:,i]=np.divide(np.diff(d[i-2:,i-1]),r)\n",
    "        r=np.convolve(np.diff(x), [1]*i, 'valid')    \n",
    "    return d"
   ]
  },
  {
   "cell_type": "markdown",
   "metadata": {},
   "source": [
    "### Example"
   ]
  },
  {
   "cell_type": "code",
   "execution_count": 3,
   "metadata": {},
   "outputs": [
    {
     "name": "stdout",
     "output_type": "stream",
     "text": [
      "[[ 0.          0.          0.          0.          0.        ]\n",
      " [ 0.3         0.07939274  0.26464247  0.          0.        ]\n",
      " [ 0.7         0.19981481  0.30105517  0.05201814  0.        ]\n",
      " [ 0.9         0.06646287 -0.66675972 -1.61302481 -1.85004773]]\n"
     ]
    }
   ],
   "source": [
    "d=ddnewton(np.array([ 0, 0.3 , 0.7, 0.9]), lambda x : x*np.sin(2*x)-x**2) \n",
    "print(d)"
   ]
  },
  {
   "cell_type": "code",
   "execution_count": 4,
   "metadata": {},
   "outputs": [
    {
     "name": "stdout",
     "output_type": "stream",
     "text": [
      "[[ 0.          0.          0.          0.          0.        ]\n",
      " [ 0.3         0.28286121  0.94287069  0.          0.        ]\n",
      " [ 0.7         0.69899063  1.04032356  0.13921839  0.        ]\n",
      " [ 0.9         0.86105134  0.81030352 -0.38336674 -0.58065015]]\n"
     ]
    }
   ],
   "source": [
    "d=ddnewton(np.array([ 0, 0.3 , 0.7, 0.9]), lambda x : x*np.sin(2**x)) \n",
    "print(d)"
   ]
  },
  {
   "cell_type": "markdown",
   "metadata": {},
   "source": [
    "## Richardson Extrapolation"
   ]
  },
  {
   "cell_type": "code",
   "execution_count": 5,
   "metadata": {},
   "outputs": [],
   "source": [
    "def richardson_extrapolation(f, x, h , n):\n",
    "    n+=1;\n",
    "    D=np.zeros([n,n])\n",
    "    for i in range(n):\n",
    "        D[i,0]=(f(x + h) - f(x - h))/2/h\n",
    "        for j in range(1,i+1):\n",
    "            D[i, j] = D[i, j - 1] + (D[i, j - 1] - D[i - 1, j - 1])/(4**j - 1)\n",
    "        h=h/2\n",
    "    return D"
   ]
  },
  {
   "cell_type": "markdown",
   "metadata": {},
   "source": [
    "### Example"
   ]
  },
  {
   "cell_type": "code",
   "execution_count": 6,
   "metadata": {},
   "outputs": [
    {
     "name": "stdout",
     "output_type": "stream",
     "text": [
      "[[2.23476995 0.         0.        ]\n",
      " [2.26507943 2.27518259 0.        ]\n",
      " [2.27263098 2.27514816 2.27514586]]\n"
     ]
    }
   ],
   "source": [
    "d = richardson_extrapolation(lambda x : (2**x)*np.sin(x), 1.05, .3 , 2)\n",
    "print(d)"
   ]
  },
  {
   "cell_type": "code",
   "execution_count": 7,
   "metadata": {},
   "outputs": [
    {
     "name": "stdout",
     "output_type": "stream",
     "text": [
      "[[1.2088878  0.         0.        ]\n",
      " [1.2458372  1.25815367 0.        ]\n",
      " [1.25527252 1.25841763 1.25843523]]\n"
     ]
    }
   ],
   "source": [
    "d = richardson_extrapolation(lambda x : (2**(1+np.sin(x))), 1.05, .3 , 2)\n",
    "print(d)"
   ]
  },
  {
   "cell_type": "markdown",
   "metadata": {},
   "source": [
    "# Romberg Method for inteheration"
   ]
  },
  {
   "cell_type": "code",
   "execution_count": 8,
   "metadata": {},
   "outputs": [],
   "source": [
    "def romberg(f,a,b,n):\n",
    "    h=b-a\n",
    "    n+=1\n",
    "    r=np.zeros([n,n])\n",
    "    r[0,0]=0.5*h*(f(b)+f(a))\n",
    "    for i in range(1,n):\n",
    "        h=h/2\n",
    "        sum=0\n",
    "        for k in range(1,1+2**(i-1)):\n",
    "            sum+=f(a+(2*k-1)*h)\n",
    "        r[i,0]=.5*r[i-1,0]+sum*h;\n",
    "        for j in range(1,i):\n",
    "            r[i,j]=r[i, j-1]+(r[i,j-1]-r[i-1,j-1])/(4**j-1);\n",
    "    return r"
   ]
  },
  {
   "cell_type": "markdown",
   "metadata": {},
   "source": [
    "## Example"
   ]
  },
  {
   "cell_type": "code",
   "execution_count": 9,
   "metadata": {},
   "outputs": [
    {
     "name": "stdout",
     "output_type": "stream",
     "text": [
      "[[1.5        0.         0.         0.         0.        ]\n",
      " [1.55       0.         0.         0.         0.        ]\n",
      " [1.56558824 1.57078431 0.         0.         0.        ]\n",
      " [1.56949425 1.57079625 1.57079705 0.         0.        ]\n",
      " [1.57047081 1.57079633 1.57079633 1.57079632 0.        ]]\n"
     ]
    }
   ],
   "source": [
    "r=romberg(lambda x: 2/(1+x**2),0,1,4)\n",
    "print(r)"
   ]
  },
  {
   "cell_type": "code",
   "execution_count": 10,
   "metadata": {},
   "outputs": [
    {
     "name": "stdout",
     "output_type": "stream",
     "text": [
      "[[0.68393972 0.         0.         0.         0.        ]\n",
      " [0.73137025 0.         0.         0.         0.        ]\n",
      " [0.7429841  0.74685538 0.         0.         0.        ]\n",
      " [0.74586561 0.74682612 0.74682417 0.         0.        ]\n",
      " [0.7465846  0.74682426 0.74682413 0.74682413 0.        ]]\n"
     ]
    }
   ],
   "source": [
    "r=romberg(lambda x: np.exp(-x**2),0,1,4)\n",
    "print(r)"
   ]
  },
  {
   "cell_type": "markdown",
   "metadata": {},
   "source": [
    "The exact value of the integeral is pi."
   ]
  },
  {
   "cell_type": "code",
   "execution_count": 11,
   "metadata": {},
   "outputs": [
    {
     "data": {
      "text/plain": [
       "[<matplotlib.lines.Line2D at 0x115233278>]"
      ]
     },
     "execution_count": 11,
     "metadata": {},
     "output_type": "execute_result"
    },
    {
     "data": {
      "image/png": "[encoded data removed]",
      "text/plain": [
       "<Figure size 432x288 with 1 Axes>"
      ]
     },
     "metadata": {
      "needs_background": "light"
     },
     "output_type": "display_data"
    }
   ],
   "source": [
    "x=np.linspace(-1,1,50)\n",
    "f= lambda x: 4/(1+x**2)\n",
    "plt.plot(x,f(x))"
   ]
  }
 ],
 "metadata": {
  "kernelspec": {
   "display_name": "Python 3",
   "language": "python",
   "name": "python3"
  },
  "language_info": {
   "codemirror_mode": {
    "name": "ipython",
    "version": 3
   },
   "file_extension": ".py",
   "mimetype": "text/x-python",
   "name": "python",
   "nbconvert_exporter": "python",
   "pygments_lexer": "ipython3",
   "version": "3.7.1"
  }
 },
 "nbformat": 4,
 "nbformat_minor": 2
}
