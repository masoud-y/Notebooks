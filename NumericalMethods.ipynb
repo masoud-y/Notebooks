{
 "cells": [
  {
   "cell_type": "code",
   "execution_count": 1,
   "metadata": {},
   "outputs": [],
   "source": [
    "import numpy as np\n",
    "import matplotlib.pyplot as plt"
   ]
  },
  # Newton Divided Differences
  {
   "cell_type": "markdown",
   "metadata": {},
   "source": [
    "The following is a simpe function for calculating Newton Divided Differences Table for function f given values x."
   ]
  },
  {
   "cell_type": "code",
   "execution_count": 2,
   "metadata": {},
   "outputs": [],
   "source": [
    "def ddnewton(x,f):\n",
    "    x=x.flatten()\n",
    "    n=len(x)\n",
    "    d=np.zeros([n,n+1])\n",
    "    r=np.diff(x)\n",
    "    d[:,0]=x\n",
    "    d[:,1]=f(x)\n",
    "    for i in range(2,n+1):\n",
    "        d[i-1:,i]=np.divide(np.diff(d[i-2:,i-1]),r)\n",
    "        r=np.convolve(r, [1,1], 'valid')    \n",
    "    return d"
   ]
  },
  {
   "cell_type": "markdown",
   "metadata": {},
   "source": [
    "Here is an example: let's get the Newton Divided Differences Table for exp(-x^2)"
   ]
  },
  {
   "cell_type": "code",
   "execution_count": 3,
   "metadata": {},
   "outputs": [],
   "source": [
    "d=ddnewton(np.array([ 0, 0.25 , 0.5 , 0.75, 1]), lambda x : np.exp((-x**2)))"
   ]
  },
  {
   "cell_type": "code",
   "execution_count": 4,
   "metadata": {},
   "outputs": [
    {
     "name": "stdout",
     "output_type": "stream",
     "text": [
      "[[ 0.          1.          0.          0.          0.          0.        ]\n",
      " [ 0.25        0.93941306 -0.24234775  0.          0.          0.        ]\n",
      " [ 0.5         0.77880078 -0.64244912 -0.80020274  0.          0.        ]\n",
      " [ 0.75        0.56978282 -0.83607183 -0.38724543  0.41295731  0.        ]\n",
      " [ 1.          0.36787944 -0.80761353  0.0569166   0.44416203  0.01560236]]\n"
     ]
    }
   ],
   "source": [
    "print(d)"
   ]
  },
  {
   "cell_type": "markdown",
   "metadata": {},
   "source": [
    "Derivative: Richardson Extrapolation"
   ]
  },
  {
   "cell_type": "code",
   "execution_count": 5,
   "metadata": {},
   "outputs": [],
   "source": [
    "def richardson_extrapolation(f, x, h , n):\n",
    "    n+=1;\n",
    "    D=np.zeros([n,n])\n",
    "    for i in range(n):\n",
    "        D[i,0]=(f(x + h) - f(x - h))/2/h\n",
    "        for j in range(1,i+1):\n",
    "           D[i, j] = D[i, j - 1] + (D[i, j - 1] - D[i - 1, j - 1])/(4^i - 1)\n",
    "        h=h/2\n",
    "    return D"
   ]
  },
  {
   "cell_type": "code",
   "execution_count": 6,
   "metadata": {},
   "outputs": [
    {
     "name": "stdout",
     "output_type": "stream",
     "text": [
      "[[-0.72249503  0.          0.          0.        ]\n",
      " [-0.76433217 -0.77479145  0.          0.        ]\n",
      " [-0.77515856 -0.77732384 -0.77783032  0.        ]\n",
      " [-0.77788865 -0.77834367 -0.77851364 -0.77862753]]\n"
     ]
    }
   ],
   "source": [
    "d = richardson_extrapolation(lambda x : np.exp(-x**2), .5, .3 , 3)\n",
    "print(d)"
   ]
  },
  {
   "cell_type": "markdown",
   "metadata": {},
   "source": [
    "Romberg Method for inteheration"
   ]
  },
  {
   "cell_type": "code",
   "execution_count": 7,
   "metadata": {},
   "outputs": [],
   "source": [
    "def romberg(f,a,b,n):\n",
    "    h=b-a\n",
    "    n+=1\n",
    "    r=np.zeros([n,n])\n",
    "    r[0,0]=0.5*h*(f(b)+f(a))\n",
    "    for i in range(1,n):\n",
    "        h=h/2\n",
    "        sum=0\n",
    "        for k in range(1,1+2**(i-1)):\n",
    "            sum+=f(a+(2*k-1)*h)\n",
    "        r[i,0]=.5*r[i-1,0]+sum*h;\n",
    "        for j in range(1,i):\n",
    "            r[i,j]=r[i, j-1]+(r[i,j-1]-r[i-1,j-1])/(4**j-1);\n",
    "    return r"
   ]
  },
  {
   "cell_type": "code",
   "execution_count": 8,
   "metadata": {},
   "outputs": [
    {
     "name": "stdout",
     "output_type": "stream",
     "text": [
      "[[3.         0.         0.         0.         0.        ]\n",
      " [3.1        0.         0.         0.         0.        ]\n",
      " [3.13117647 3.14156863 0.         0.         0.        ]\n",
      " [3.13898849 3.1415925  3.14159409 0.         0.        ]\n",
      " [3.14094161 3.14159265 3.14159266 3.14159264 0.        ]]\n"
     ]
    }
   ],
   "source": [
    "r=romberg(lambda x: 4/(1+x**2),0,1,4)\n",
    "print(r)"
   ]
  },
  {
   "cell_type": "markdown",
   "metadata": {},
   "source": [
    "The exact value of the integeral is pi."
   ]
  },
  {
   "cell_type": "code",
   "execution_count": 9,
   "metadata": {},
   "outputs": [
    {
     "data": {
      "text/plain": [
       "[<matplotlib.lines.Line2D at 0x7f36e7322588>]"
      ]
     },
     "execution_count": 10,
     "metadata": {},
     "output_type": "execute_result"
    },
    {
     "data": {
      "image/png": "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\n",
      "text/plain": [
       "<Figure size 432x288 with 1 Axes>"
      ]
     },
     "metadata": {},
     "output_type": "display_data"
    }
   ],
   "source": [
    "x=np.linspace(-1,1,50)\n",
    "f= lambda x: 4/(1+x**2)\n",
    "plt.plot(x,f(x))"
   ]
  },
  {
   "cell_type": "code",
   "execution_count": null,
   "metadata": {},
   "outputs": [],
   "source": []
  }
 ],
 "metadata": {
  "kernelspec": {
   "display_name": "Python 3",
   "language": "python",
   "name": "python3"
  },
  "language_info": {
   "codemirror_mode": {
    "name": "ipython",
    "version": 3
   },
   "file_extension": ".py",
   "mimetype": "text/x-python",
   "name": "python",
   "nbconvert_exporter": "python",
   "pygments_lexer": "ipython3",
   "version": "3.6.5"
  }
 },
 "nbformat": 4,
 "nbformat_minor": 2
}
