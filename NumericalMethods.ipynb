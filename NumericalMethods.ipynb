{
 "cells": [
  {
   "cell_type": "code",
   "execution_count": null,
   "metadata": {},
   "outputs": [],
   "source": [
    "import numpy as np\n",
    "import matplotlib.pyplot as plt"
   ]
  },
  {
   "cell_type": "markdown",
   "metadata": {},
   "source": [
    "The following is a simpe function for calculating Newton Divided Differences Table for function f given values x."
   ]
  },
  {
   "cell_type": "code",
   "execution_count": null,
   "metadata": {},
   "outputs": [],
   "source": [
    "def ddnewton(x,f):\n",
    "    x=x.flatten()\n",
    "    n=len(x)\n",
    "    d=np.zeros([n,n+1])\n",
    "    r=np.diff(x)\n",
    "    d[:,0]=x\n",
    "    d[:,1]=f(x)\n",
    "    for i in range(2,n+1):\n",
    "        d[i-1:,i]=np.divide(np.diff(d[i-2:,i-1]),r)\n",
    "        r=np.convolve(r, [1,1], 'valid')    \n",
    "    return d"
   ]
  },
  {
   "cell_type": "markdown",
   "metadata": {},
   "source": [
    "Here is an example: let's get the Newton Divided Differences Table for exp(-x^2)"
   ]
  },
  {
   "cell_type": "code",
   "execution_count": null,
   "metadata": {},
   "outputs": [],
   "source": [
    "d=ddnewton(np.array([ 0, 0.25 , 0.5 , 0.75, 1]), lambda x : np.exp((-x**2)))"
   ]
  },
  {
   "cell_type": "code",
   "execution_count": null,
   "metadata": {},
   "outputs": [],
   "source": [
    "print(d)"
   ]
  },
  {
   "cell_type": "markdown",
   "metadata": {},
   "source": [
    "Derivative: Richardson Extrapolation"
   ]
  },
  {
   "cell_type": "code",
   "execution_count": null,
   "metadata": {},
   "outputs": [],
   "source": [
    "def richardson_extrapolation(f, x, h , n):\n",
    "    n+=1;\n",
    "    D=np.zeros([n,n])\n",
    "    for i in range(n):\n",
    "        D[i,0]=(f(x + h) - f(x - h))/2/h\n",
    "        for j in range(1,i+1):\n",
    "           D[i, j] = D[i, j - 1] + (D[i, j - 1] - D[i - 1, j - 1])/(4^i - 1)\n",
    "        h=h/2\n",
    "    return D"
   ]
  },
  {
   "cell_type": "code",
   "execution_count": null,
   "metadata": {},
   "outputs": [],
   "source": [
    "d = richardson_extrapolation(lambda x : np.exp(-x**2), .5, .3 , 3)\n",
    "print(d)"
   ]
  },
  {
   "cell_type": "markdown",
   "metadata": {},
   "source": [
    "Romberg Method for inteheration"
   ]
  },
  {
   "cell_type": "code",
   "execution_count": null,
   "metadata": {},
   "outputs": [],
   "source": [
    "def romberg(f,a,b,n):\n",
    "    h=b-a\n",
    "    n+=1\n",
    "    r=np.zeros([n,n])\n",
    "    r[0,0]=0.5*h*(f(b)+f(a))\n",
    "    for i in range(1,n):\n",
    "        h=h/2\n",
    "        sum=0\n",
    "        for k in range(1,1+2**(i-1)):\n",
    "            sum+=f(a+(2*k-1)*h)\n",
    "        r[i,0]=.5*r[i-1,0]+sum*h;\n",
    "        for j in range(1,i):\n",
    "            r[i,j]=r[i, j-1]+(r[i,j-1]-r[i-1,j-1])/(4**j-1);\n",
    "    return r"
   ]
  },
  {
   "cell_type": "code",
   "execution_count": null,
   "metadata": {},
   "outputs": [],
   "source": [
    "r=romberg(lambda x: 4/(1+x**2),0,1,4)\n",
    "print(r)"
   ]
  },
  {
   "cell_type": "markdown",
   "metadata": {},
   "source": [
    "The exact value of the integeral is pi."
   ]
  },
  {
   "cell_type": "code",
   "execution_count": null,
   "metadata": {},
   "outputs": [],
   "source": [
    "print(np.pi)"
   ]
  },
  {
   "cell_type": "code",
   "execution_count": null,
   "metadata": {},
   "outputs": [],
   "source": [
    "x=np.linspace(-1,1,50)\n",
    "f= lambda x: 4/(1+x**2)\n",
    "plt.plot(x,f(x))"
   ]
  },
  {
   "cell_type": "code",
   "execution_count": null,
   "metadata": {},
   "outputs": [],
   "source": []
  }
 ],
 "metadata": {
  "kernelspec": {
   "display_name": "Python 3",
   "language": "python",
   "name": "python3"
  },
  "language_info": {
   "codemirror_mode": {
    "name": "ipython",
    "version": 3
   },
   "file_extension": ".py",
   "mimetype": "text/x-python",
   "name": "python",
   "nbconvert_exporter": "python",
   "pygments_lexer": "ipython3",
   "version": "3.6.5"
  }
 },
 "nbformat": 4,
 "nbformat_minor": 2
}
